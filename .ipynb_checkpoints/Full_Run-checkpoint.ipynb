{
 "cells": [
  {
   "cell_type": "code",
   "execution_count": 1,
   "id": "d6ca1687",
   "metadata": {},
   "outputs": [
    {
     "name": "stderr",
     "output_type": "stream",
     "text": [
      "[nltk_data] Downloading package wordnet to /home/traffic/nltk_data...\n",
      "[nltk_data]   Package wordnet is already up-to-date!\n",
      "[nltk_data] Downloading package omw-1.4 to /home/traffic/nltk_data...\n",
      "[nltk_data]   Package omw-1.4 is already up-to-date!\n",
      "/usr/lib/python3/dist-packages/requests/__init__.py:89: RequestsDependencyWarning: urllib3 (1.26.8) or chardet (3.0.4) doesn't match a supported version!\n",
      "  warnings.warn(\"urllib3 ({}) or chardet ({}) doesn't match a supported \"\n",
      "/home/traffic/.local/lib/python3.8/site-packages/gensim/matutils.py:22: DeprecationWarning: Please use `triu` from the `scipy.linalg` namespace, the `scipy.linalg.special_matrices` namespace is deprecated.\n",
      "  from scipy.linalg.special_matrices import triu\n"
     ]
    }
   ],
   "source": [
    "import pandas as pd\n",
    "import numpy as np\n",
    "from sklearn.model_selection import GridSearchCV\n",
    "from sklearn.decomposition import LatentDirichletAllocation\n",
    "from sklearn.manifold import TSNE\n",
    "\n",
    "from nltk.stem.porter import *\n",
    "from nltk.stem import WordNetLemmatizer\n",
    "import nltk\n",
    "nltk.download('wordnet')\n",
    "nltk.download('omw-1.4')\n",
    "from nltk.corpus import wordnet \n",
    "\n",
    "import pyLDAvis\n",
    "import pyLDAvis.sklearn\n",
    "pyLDAvis.enable_notebook()\n",
    "from sklearn.datasets import fetch_20newsgroups\n",
    "from sklearn.feature_extraction.text import CountVectorizer, TfidfVectorizer\n",
    "from sklearn.decomposition import LatentDirichletAllocation\n",
    "\n",
    "import gensim\n",
    "\n",
    "from google.cloud import bigquery"
   ]
  },
  {
   "cell_type": "code",
   "execution_count": 2,
   "id": "af117df9",
   "metadata": {},
   "outputs": [],
   "source": [
    "# authenticate with BigQuery API\n",
    "client = bigquery.Client.from_service_account_json('../../datascience-abovezero-58d98dcf7f65.json')\n",
    "# Perform a query.\n",
    "QUERY = ('SELECT * FROM `datascience-abovezero.ml_sandbox.chegg_influencers_comments`')\n",
    "query_job = client.query(QUERY)  # API request\n",
    "df =  query_job.result().to_dataframe() #transform to Pandas Dataframe\n",
    "\n",
    "#df2 = pd.read_csv('analisis_comments_tiktok.csv')# Parameters tuning using Grid Search"
   ]
  },
  {
   "cell_type": "markdown",
   "id": "a68e726f",
   "metadata": {},
   "source": [
    "# Bag Of Words"
   ]
  },
  {
   "cell_type": "markdown",
   "id": "562c9fa1",
   "metadata": {},
   "source": [
    "### Preprocessing "
   ]
  },
  {
   "cell_type": "code",
   "execution_count": 3,
   "id": "6d6bef5c",
   "metadata": {},
   "outputs": [],
   "source": [
    "def lemmatize_stemming(text):\n",
    "    stemmer = PorterStemmer()\n",
    "    lemmatizer = WordNetLemmatizer()\n",
    "    return stemmer.stem(WordNetLemmatizer().lemmatize(text, pos='v'))\n",
    "# Tokenize and lemmatize\n",
    "def preprocess(text):\n",
    "    result=[]\n",
    "    for token in gensim.utils.simple_preprocess(text) :\n",
    "        if token not in gensim.parsing.preprocessing.STOPWORDS and len(token) > 3:\n",
    "            result.append(lemmatize_stemming(token))\n",
    "            \n",
    "    return result\n",
    "\n",
    "comments = df.comment.tolist()\n",
    "comments_prep = [preprocess(str(comment)) for comment in comments]\n",
    "comments_dict = gensim.corpora.Dictionary(comments_prep)\n",
    "bow_corpus = [comments_dict.doc2bow(doc) for doc in comments_prep]"
   ]
  },
  {
   "cell_type": "code",
   "execution_count": 4,
   "id": "5f2a8314",
   "metadata": {},
   "outputs": [
    {
     "name": "stdout",
     "output_type": "stream",
     "text": [
      "0 ayyyi\n",
      "1 legend\n",
      "2 call\n",
      "3 colleg\n",
      "4 univers\n",
      "5 amaz\n",
      "6 person\n",
      "7 antedragz\n",
      "8 chegg\n",
      "9 fuck\n",
      "10 gift\n"
     ]
    }
   ],
   "source": [
    "'''\n",
    "Checking dictionary created\n",
    "'''\n",
    "count = 0\n",
    "for k, v in comments_dict.iteritems():\n",
    "    print(k, v)\n",
    "    count += 1\n",
    "    if count > 10:\n",
    "        break"
   ]
  },
  {
   "cell_type": "markdown",
   "id": "0afa3f57",
   "metadata": {},
   "source": [
    "### Training the model"
   ]
  },
  {
   "cell_type": "raw",
   "id": "08f45bbc",
   "metadata": {},
   "source": [
    "lda_model =  gensim.models.LdaMulticore(bow_corpus, \n",
    "                                   num_topics = 4, \n",
    "                                   id2word = comments_dict,                                    \n",
    "                                   passes = 10,\n",
    "                                   workers = 2)\n",
    "for idx, topic in lda_model.print_topics(-1):\n",
    "    print(\"Topic: {} \\nWords: {}\".format(idx, topic ))\n",
    "    print(\"\\n\")"
   ]
  },
  {
   "cell_type": "markdown",
   "id": "2c04e73c",
   "metadata": {},
   "source": [
    "### Testing the model"
   ]
  },
  {
   "cell_type": "raw",
   "id": "ab66fde0",
   "metadata": {
    "scrolled": true
   },
   "source": [
    "unseen_document = 'I hate Chegg. What a failure!'# Data preprocessing step for the unseen document\n",
    "bow_vector = comments_dict.doc2bow(preprocess(unseen_document))\n",
    "\n",
    "for index, score in sorted(lda_model[bow_vector], key=lambda tup: -1*tup[1]):\n",
    "    print(f\"Topic: {index} Score: {score}\\t, Topic detail:{lda_model.print_topic(index, 5)}\")"
   ]
  },
  {
   "cell_type": "raw",
   "id": "5055149f",
   "metadata": {},
   "source": [
    "pyLDAvis.enable_notebook()\n",
    "pyLDAvis.sklearn.prepare(lda_model, comments_dict,bow_corpus,mds='tsne')"
   ]
  },
  {
   "cell_type": "markdown",
   "id": "ff327ed2",
   "metadata": {},
   "source": [
    "# TFIDF "
   ]
  },
  {
   "cell_type": "markdown",
   "id": "edef3e42",
   "metadata": {},
   "source": [
    "### Preprocessing"
   ]
  },
  {
   "cell_type": "code",
   "execution_count": 5,
   "id": "8cc7d858",
   "metadata": {},
   "outputs": [
    {
     "name": "stdout",
     "output_type": "stream",
     "text": [
      "3427\n"
     ]
    },
    {
     "name": "stderr",
     "output_type": "stream",
     "text": [
      "/home/traffic/.local/lib/python3.8/site-packages/sklearn/feature_extraction/text.py:2029: UserWarning: Only (<class 'numpy.float64'>, <class 'numpy.float32'>, <class 'numpy.float16'>) 'dtype' should be used. <class 'numpy.int64'> 'dtype' will be converted to np.float64.\n",
      "  warnings.warn(\n"
     ]
    }
   ],
   "source": [
    "docs_raw = df.comment.fillna('').tolist()\n",
    "print(len(docs_raw))\n",
    "tf_vectorizer = CountVectorizer(strip_accents = 'unicode',\n",
    "                                stop_words = 'english',\n",
    "                                lowercase = True,\n",
    "                                token_pattern = r'\\b[a-zA-Z]{3,}\\b',\n",
    "                                max_df = 0.5, \n",
    "                                min_df = 10)\n",
    "dtm_tf = tf_vectorizer.fit_transform(docs_raw)\n",
    "tfidf_vectorizer = TfidfVectorizer(**tf_vectorizer.get_params())\n",
    "dtm_tfidf = tfidf_vectorizer.fit_transform(docs_raw)"
   ]
  },
  {
   "cell_type": "markdown",
   "id": "47632af9",
   "metadata": {},
   "source": [
    "### Training The Model "
   ]
  },
  {
   "cell_type": "code",
   "execution_count": 11,
   "id": "4050ec25",
   "metadata": {},
   "outputs": [
    {
     "data": {
      "text/plain": [
       "LatentDirichletAllocation(n_components=4, random_state=0)"
      ]
     },
     "execution_count": 11,
     "metadata": {},
     "output_type": "execute_result"
    }
   ],
   "source": [
    "# for TF DTM\n",
    "lda_tf = LatentDirichletAllocation(n_components=4, random_state=0)\n",
    "lda_tf.fit(dtm_tf)\n",
    "# for TFIDF DTM\n",
    "lda_tfidf = LatentDirichletAllocation(n_components=4, random_state=0)\n",
    "lda_tfidf.fit(dtm_tfidf)"
   ]
  },
  {
   "cell_type": "markdown",
   "id": "d202d94d",
   "metadata": {},
   "source": [
    "### Visualizing The Result "
   ]
  },
  {
   "cell_type": "code",
   "execution_count": 16,
   "id": "f85d7261",
   "metadata": {},
   "outputs": [
    {
     "name": "stderr",
     "output_type": "stream",
     "text": [
      "/home/traffic/.local/lib/python3.8/site-packages/sklearn/utils/deprecation.py:87: FutureWarning: Function get_feature_names is deprecated; get_feature_names is deprecated in 1.0 and will be removed in 1.2. Please use get_feature_names_out instead.\n",
      "  warnings.warn(msg, category=FutureWarning)\n",
      "/home/traffic/.local/lib/python3.8/site-packages/pyLDAvis/_prepare.py:246: FutureWarning: In a future version of pandas all arguments of DataFrame.drop except for the argument 'labels' will be keyword-only.\n",
      "  default_term_info = default_term_info.sort_values(\n"
     ]
    },
    {
     "data": {
      "text/html": [
       "\n",
       "<link rel=\"stylesheet\" type=\"text/css\" href=\"https://cdn.jsdelivr.net/gh/bmabey/pyLDAvis@3.3.1/pyLDAvis/js/ldavis.v1.0.0.css\">\n",
       "\n",
       "\n",
       "<div id=\"ldavis_el20951406645531769766254269846\"></div>\n",
       "<script type=\"text/javascript\">\n",
       "\n",
       "var ldavis_el20951406645531769766254269846_data = {\"mdsDat\": {\"x\": [0.09095311247569676, -0.3524946542890681, 0.17582053760828067, 0.18125791595844937, -0.09553691175335903], \"y\": [0.3031844701105, -0.04718783485195974, -0.2601730005865433, 0.006986124532840596, -0.0028097592048374445], \"topics\": [1, 2, 3, 4, 5], \"cluster\": [1, 1, 1, 1, 1], \"Freq\": [22.978698596255846, 22.652388040600574, 20.29316567812688, 17.87930977498437, 16.196437910032337]}, \"tinfo\": {\"Term\": [\"love\", \"early\", \"chegg\", \"syd\", \"help\", \"video\", \"thank\", \"omg\", \"sydney\", \"just\", \"need\", \"thanks\", \"yes\", \"lol\", \"know\", \"school\", \"really\", \"college\", \"use\", \"free\", \"eat\", \"day\", \"videos\", \"hey\", \"look\", \"math\", \"make\", \"don\", \"amazing\", \"literally\", \"chegg\", \"video\", \"school\", \"use\", \"literally\", \"great\", \"got\", \"just\", \"good\", \"class\", \"like\", \"used\", \"college\", \"healthy\", \"life\", \"amazing\", \"eat\", \"hey\", \"math\", \"look\", \"happy\", \"free\", \"make\", \"does\", \"don\", \"did\", \"day\", \"need\", \"know\", \"really\", \"help\", \"videos\", \"thanks\", \"thank\", \"love\", \"really\", \"day\", \"make\", \"happy\", \"did\", \"videos\", \"healthy\", \"class\", \"used\", \"got\", \"life\", \"amazing\", \"great\", \"eat\", \"hey\", \"look\", \"math\", \"literally\", \"good\", \"free\", \"does\", \"don\", \"need\", \"use\", \"sydney\", \"lol\", \"know\", \"omg\", \"yes\", \"help\", \"thank\", \"like\", \"college\", \"video\", \"just\", \"syd\", \"thanks\", \"thank\", \"thanks\", \"yes\", \"lol\", \"know\", \"look\", \"math\", \"college\", \"like\", \"life\", \"don\", \"used\", \"class\", \"healthy\", \"got\", \"amazing\", \"great\", \"eat\", \"hey\", \"happy\", \"literally\", \"good\", \"free\", \"make\", \"does\", \"did\", \"day\", \"need\", \"use\", \"really\", \"omg\", \"syd\", \"love\", \"help\", \"video\", \"early\", \"help\", \"free\", \"hey\", \"amazing\", \"does\", \"used\", \"life\", \"good\", \"like\", \"class\", \"healthy\", \"got\", \"great\", \"eat\", \"math\", \"look\", \"happy\", \"literally\", \"make\", \"don\", \"did\", \"day\", \"need\", \"use\", \"really\", \"know\", \"lol\", \"omg\", \"sydney\", \"school\", \"videos\", \"college\", \"thank\", \"chegg\", \"just\", \"love\", \"thanks\", \"video\", \"syd\", \"omg\", \"sydney\", \"need\", \"eat\", \"don\", \"healthy\", \"does\", \"just\", \"videos\", \"did\", \"college\", \"used\", \"class\", \"got\", \"amazing\", \"life\", \"great\", \"hey\", \"look\", \"math\", \"happy\", \"literally\", \"good\", \"free\", \"make\", \"day\", \"use\", \"lol\", \"know\", \"really\", \"yes\", \"help\", \"thank\", \"love\", \"chegg\", \"like\", \"thanks\", \"video\"], \"Freq\": [68.0, 34.0, 38.0, 27.0, 20.0, 24.0, 21.0, 17.0, 17.0, 32.0, 16.0, 19.0, 18.0, 17.0, 17.0, 19.0, 18.0, 24.0, 17.0, 13.0, 12.0, 16.0, 21.0, 13.0, 13.0, 13.0, 14.0, 15.0, 11.0, 13.0, 37.252137981142404, 23.687888383893604, 18.265070642381865, 16.455708130026046, 12.838640104431638, 11.018007608255303, 10.126052498242503, 25.498337639495343, 6.113470334380128, 3.8068683921307085, 5.541162788684545, 1.4976371550801353, 2.5058507907243293, 0.180876425821145, 0.18291092166295037, 0.18152059793366496, 0.18111600064499067, 0.18178539311627087, 0.1820022358473181, 0.18086705668377226, 0.1816555860445483, 0.18287810031453353, 0.18168526513925978, 0.18201469572959364, 0.1823108087831293, 0.18134400080683782, 0.18184573816131874, 0.18121943292656725, 0.1822992380963386, 0.1828451002244242, 0.18238521320306386, 0.18219355656427597, 0.1817292393190472, 0.1816473264811017, 67.60113910393788, 17.269687309503453, 15.378753516371543, 13.479918691622052, 12.530761194711358, 13.0963922863113, 17.440757930006793, 7.4016036475325695, 5.875803758362329, 1.143448788337729, 0.18992462743850974, 0.19307416283747011, 0.19229644762288642, 0.19472313213495115, 0.1905121113287552, 0.19023354562813644, 0.1912387063290087, 0.19026796496363127, 0.1903064962201176, 0.192010013211526, 0.19020598159881644, 0.19144470606403605, 0.18993216587263592, 0.19196031576077038, 0.1899775915613361, 0.19191194078101098, 0.1910127096429237, 0.19027277401545362, 0.1903158509366388, 0.1903663307260602, 0.19122885866629616, 0.19141462571931395, 0.19245632647593414, 0.19177623171987088, 0.19160429930842612, 0.19126520057423155, 0.1910359048655046, 0.19059465555915395, 20.912900748638084, 19.030234477337036, 18.087940913352384, 17.146182062617374, 17.14591773603131, 12.434885888637469, 12.434573628453581, 19.246622763670413, 9.664879053847978, 3.0004792070821873, 3.9076483776541204, 0.1884881122177883, 0.18891500190434277, 0.19029297465503953, 0.18924502578650843, 0.18970531990235792, 0.190510770108441, 0.18864970905382486, 0.18915721587081444, 0.18995147110626046, 0.1885923054933813, 0.1895014793485846, 0.18910128434344986, 0.18931412055750155, 0.18944481020733533, 0.19132265665677775, 0.18907039021425062, 0.18914449405597922, 0.18889985380285534, 0.19040467929618182, 0.18959580899865852, 0.1897162359111895, 0.1895794597227112, 0.18930744766196286, 0.18924343449869033, 33.69257096354447, 19.72575625221273, 13.213591616368003, 12.283408802813069, 10.418887300665554, 10.432300572061457, 7.202268081666714, 7.639995623199845, 7.106663218200389, 12.296351747168034, 0.18724956685960803, 0.18618609739612238, 0.1861791108500898, 0.19285245611824287, 0.1861631762869574, 0.18745657930936946, 0.18658451836252493, 0.18617962344412947, 0.18618496054817893, 0.18704772743619952, 0.1887839075211239, 0.18665695937020566, 0.18687346018963133, 0.18778550837127483, 0.18714376820838366, 0.19174390263043353, 0.18660965743763477, 0.18617817587712762, 0.1867287019720155, 0.18665005725016431, 0.18691905928790095, 0.1875628082946895, 0.18742086901560687, 0.18717192863881466, 0.18770712401163311, 0.18754006658456987, 0.18674461618090224, 0.18672068373208048, 0.18666867022127998, 26.80048883815698, 17.228472434883567, 17.227696576447514, 16.162074178162964, 11.911632860360617, 10.900608962295973, 2.7683998838403134, 3.3904323818536546, 6.592688797423936, 3.220774589526327, 1.7050001718565744, 2.5515985867460045, 0.21416834646864577, 0.21280323132239498, 0.21362201842415401, 0.21414551620917757, 0.21435462153751375, 0.21365668428947182, 0.21331221731369, 0.21366693751889554, 0.2127750131399626, 0.2130574387977263, 0.21412415458401907, 0.21320714596792467, 0.2127698212978693, 0.21313745835150172, 0.21361568145296714, 0.21298135593499992, 0.21398759679538426, 0.21319669107938646, 0.21441161988225685, 0.2151364847482339, 0.21550210113854915, 0.2142505770890905, 0.21440696635228956, 0.21383192802780304, 0.2135767597566326, 0.2135525047312266, 0.21347802386358466], \"Total\": [68.0, 34.0, 38.0, 27.0, 20.0, 24.0, 21.0, 17.0, 17.0, 32.0, 16.0, 19.0, 18.0, 17.0, 17.0, 19.0, 18.0, 24.0, 17.0, 13.0, 12.0, 16.0, 21.0, 13.0, 13.0, 13.0, 14.0, 15.0, 11.0, 13.0, 38.03266569662158, 24.468882811785583, 19.043157979814684, 17.234710699533622, 13.617848021277334, 11.809750650906409, 10.905023280741764, 32.658882866732085, 13.814852191108553, 10.271639950579383, 27.908426675933125, 10.246010483771013, 24.68326924187622, 10.72735902924519, 11.230814536319967, 11.196555182333642, 12.658073857675145, 13.057897174741981, 13.207075421713862, 13.20724310753167, 13.301605314104023, 13.988546803922672, 14.251103263106515, 14.385637165916078, 15.369284222126982, 15.360716075001697, 16.15015878638971, 16.912183929277557, 17.918296096660125, 18.04909261153675, 20.504179872882602, 21.220359239588937, 19.80283156067854, 21.687385206566404, 68.37296794764055, 18.04909261153675, 16.15015878638971, 14.251103263106515, 13.301605314104023, 15.360716075001697, 21.220359239588937, 10.72735902924519, 10.271639950579383, 10.246010483771013, 10.905023280741764, 11.230814536319967, 11.196555182333642, 11.809750650906409, 12.658073857675145, 13.057897174741981, 13.20724310753167, 13.207075421713862, 13.617848021277334, 13.814852191108553, 13.988546803922672, 14.385637165916078, 15.369284222126982, 16.912183929277557, 17.234710699533622, 17.97607971379094, 17.91844825524688, 17.918296096660125, 17.97615504788514, 18.86080546331942, 20.504179872882602, 21.687385206566404, 27.908426675933125, 24.68326924187622, 24.468882811785583, 32.658882866732085, 27.548909498543722, 19.80283156067854, 21.687385206566404, 19.80283156067854, 18.86080546331942, 17.91844825524688, 17.918296096660125, 13.20724310753167, 13.207075421713862, 24.68326924187622, 27.908426675933125, 11.230814536319967, 15.369284222126982, 10.246010483771013, 10.271639950579383, 10.72735902924519, 10.905023280741764, 11.196555182333642, 11.809750650906409, 12.658073857675145, 13.057897174741981, 13.301605314104023, 13.617848021277334, 13.814852191108553, 13.988546803922672, 14.251103263106515, 14.385637165916078, 15.360716075001697, 16.15015878638971, 16.912183929277557, 17.234710699533622, 18.04909261153675, 17.97615504788514, 27.548909498543722, 68.37296794764055, 20.504179872882602, 24.468882811785583, 34.465115065571915, 20.504179872882602, 13.988546803922672, 13.057897174741981, 11.196555182333642, 14.385637165916078, 10.246010483771013, 11.230814536319967, 13.814852191108553, 27.908426675933125, 10.271639950579383, 10.72735902924519, 10.905023280741764, 11.809750650906409, 12.658073857675145, 13.207075421713862, 13.20724310753167, 13.301605314104023, 13.617848021277334, 14.251103263106515, 15.369284222126982, 15.360716075001697, 16.15015878638971, 16.912183929277557, 17.234710699533622, 18.04909261153675, 17.918296096660125, 17.91844825524688, 17.97615504788514, 17.97607971379094, 19.043157979814684, 21.220359239588937, 24.68326924187622, 21.687385206566404, 38.03266569662158, 32.658882866732085, 68.37296794764055, 19.80283156067854, 24.468882811785583, 27.548909498543722, 17.97615504788514, 17.97607971379094, 16.912183929277557, 12.658073857675145, 15.369284222126982, 10.72735902924519, 14.385637165916078, 32.658882866732085, 21.220359239588937, 15.360716075001697, 24.68326924187622, 10.246010483771013, 10.271639950579383, 10.905023280741764, 11.196555182333642, 11.230814536319967, 11.809750650906409, 13.057897174741981, 13.20724310753167, 13.207075421713862, 13.301605314104023, 13.617848021277334, 13.814852191108553, 13.988546803922672, 14.251103263106515, 16.15015878638971, 17.234710699533622, 17.91844825524688, 17.918296096660125, 18.04909261153675, 18.86080546331942, 20.504179872882602, 21.687385206566404, 68.37296794764055, 38.03266569662158, 27.908426675933125, 19.80283156067854, 24.468882811785583], \"Category\": [\"Default\", \"Default\", \"Default\", \"Default\", \"Default\", \"Default\", \"Default\", \"Default\", \"Default\", \"Default\", \"Default\", \"Default\", \"Default\", \"Default\", \"Default\", \"Default\", \"Default\", \"Default\", \"Default\", \"Default\", \"Default\", \"Default\", \"Default\", \"Default\", \"Default\", \"Default\", \"Default\", \"Default\", \"Default\", \"Default\", \"Topic1\", \"Topic1\", \"Topic1\", \"Topic1\", \"Topic1\", \"Topic1\", \"Topic1\", \"Topic1\", \"Topic1\", \"Topic1\", \"Topic1\", \"Topic1\", \"Topic1\", \"Topic1\", \"Topic1\", \"Topic1\", \"Topic1\", \"Topic1\", \"Topic1\", \"Topic1\", \"Topic1\", \"Topic1\", \"Topic1\", \"Topic1\", \"Topic1\", \"Topic1\", \"Topic1\", \"Topic1\", \"Topic1\", \"Topic1\", \"Topic1\", \"Topic1\", \"Topic1\", \"Topic1\", \"Topic2\", \"Topic2\", \"Topic2\", \"Topic2\", \"Topic2\", \"Topic2\", \"Topic2\", \"Topic2\", \"Topic2\", \"Topic2\", \"Topic2\", \"Topic2\", \"Topic2\", \"Topic2\", \"Topic2\", \"Topic2\", \"Topic2\", \"Topic2\", \"Topic2\", \"Topic2\", \"Topic2\", \"Topic2\", \"Topic2\", \"Topic2\", \"Topic2\", \"Topic2\", \"Topic2\", \"Topic2\", \"Topic2\", \"Topic2\", \"Topic2\", \"Topic2\", \"Topic2\", \"Topic2\", \"Topic2\", \"Topic2\", \"Topic2\", \"Topic2\", \"Topic3\", \"Topic3\", \"Topic3\", \"Topic3\", \"Topic3\", \"Topic3\", \"Topic3\", \"Topic3\", \"Topic3\", \"Topic3\", \"Topic3\", \"Topic3\", \"Topic3\", \"Topic3\", \"Topic3\", \"Topic3\", \"Topic3\", \"Topic3\", \"Topic3\", \"Topic3\", \"Topic3\", \"Topic3\", \"Topic3\", \"Topic3\", \"Topic3\", \"Topic3\", \"Topic3\", \"Topic3\", \"Topic3\", \"Topic3\", \"Topic3\", \"Topic3\", \"Topic3\", \"Topic3\", \"Topic3\", \"Topic4\", \"Topic4\", \"Topic4\", \"Topic4\", \"Topic4\", \"Topic4\", \"Topic4\", \"Topic4\", \"Topic4\", \"Topic4\", \"Topic4\", \"Topic4\", \"Topic4\", \"Topic4\", \"Topic4\", \"Topic4\", \"Topic4\", \"Topic4\", \"Topic4\", \"Topic4\", \"Topic4\", \"Topic4\", \"Topic4\", \"Topic4\", \"Topic4\", \"Topic4\", \"Topic4\", \"Topic4\", \"Topic4\", \"Topic4\", \"Topic4\", \"Topic4\", \"Topic4\", \"Topic4\", \"Topic4\", \"Topic4\", \"Topic4\", \"Topic4\", \"Topic4\", \"Topic5\", \"Topic5\", \"Topic5\", \"Topic5\", \"Topic5\", \"Topic5\", \"Topic5\", \"Topic5\", \"Topic5\", \"Topic5\", \"Topic5\", \"Topic5\", \"Topic5\", \"Topic5\", \"Topic5\", \"Topic5\", \"Topic5\", \"Topic5\", \"Topic5\", \"Topic5\", \"Topic5\", \"Topic5\", \"Topic5\", \"Topic5\", \"Topic5\", \"Topic5\", \"Topic5\", \"Topic5\", \"Topic5\", \"Topic5\", \"Topic5\", \"Topic5\", \"Topic5\", \"Topic5\", \"Topic5\", \"Topic5\", \"Topic5\", \"Topic5\", \"Topic5\"], \"logprob\": [30.0, 29.0, 28.0, 27.0, 26.0, 25.0, 24.0, 23.0, 22.0, 21.0, 20.0, 19.0, 18.0, 17.0, 16.0, 15.0, 14.0, 13.0, 12.0, 11.0, 10.0, 9.0, 8.0, 7.0, 6.0, 5.0, 4.0, 3.0, 2.0, 1.0, -1.5735, -2.0263, -2.2863, -2.3906, -2.6388, -2.7917, -2.8761, -1.9526, -3.3808, -3.8544, -3.479, -4.7874, -4.2726, -6.9012, -6.89, -6.8976, -6.8999, -6.8962, -6.895, -6.9012, -6.8969, -6.8902, -6.8967, -6.8949, -6.8933, -6.8986, -6.8958, -6.8993, -6.8934, -6.8904, -6.8929, -6.8939, -6.8965, -6.8969, -0.9633, -2.328, -2.444, -2.5757, -2.6488, -2.6046, -2.3181, -3.1753, -3.4061, -5.0429, -6.8381, -6.8216, -6.8257, -6.8131, -6.835, -6.8365, -6.8312, -6.8363, -6.8361, -6.8272, -6.8366, -6.8301, -6.838, -6.8274, -6.8378, -6.8277, -6.8324, -6.8362, -6.836, -6.8358, -6.8312, -6.8303, -6.8248, -6.8284, -6.8293, -6.831, -6.8322, -6.8346, -2.0266, -2.1209, -2.1717, -2.2252, -2.2252, -2.5465, -2.5465, -2.1096, -2.7985, -3.9682, -3.704, -6.7357, -6.7334, -6.7262, -6.7317, -6.7293, -6.725, -6.7348, -6.7321, -6.728, -6.7351, -6.7303, -6.7324, -6.7313, -6.7306, -6.7208, -6.7326, -6.7322, -6.7335, -6.7256, -6.7298, -6.7292, -6.7299, -6.7314, -6.7317, -1.4231, -1.9584, -2.3591, -2.4321, -2.5967, -2.5954, -2.9659, -2.9069, -2.9793, -2.431, -6.6156, -6.6213, -6.6214, -6.5862, -6.6215, -6.6145, -6.6192, -6.6214, -6.6213, -6.6167, -6.6075, -6.6188, -6.6177, -6.6128, -6.6162, -6.5919, -6.6191, -6.6214, -6.6184, -6.6188, -6.6174, -6.614, -6.6147, -6.6161, -6.6132, -6.6141, -6.6183, -6.6185, -6.6187, -1.5531, -1.9949, -1.995, -2.0588, -2.364, -2.4527, -3.8232, -3.6205, -2.9555, -3.6719, -4.3079, -3.9048, -6.3825, -6.3889, -6.385, -6.3826, -6.3816, -6.3849, -6.3865, -6.3848, -6.389, -6.3877, -6.3827, -6.387, -6.389, -6.3873, -6.3851, -6.388, -6.3833, -6.387, -6.3813, -6.378, -6.3763, -6.3821, -6.3814, -6.384, -6.3852, -6.3853, -6.3857], \"loglift\": [30.0, 29.0, 28.0, 27.0, 26.0, 25.0, 24.0, 23.0, 22.0, 21.0, 20.0, 19.0, 18.0, 17.0, 16.0, 15.0, 14.0, 13.0, 12.0, 11.0, 10.0, 9.0, 8.0, 7.0, 6.0, 5.0, 4.0, 3.0, 2.0, 1.0, 1.4499, 1.4382, 1.4289, 1.4243, 1.4117, 1.4012, 1.3965, 1.2231, 0.6554, 0.478, -0.1461, -0.4524, -0.8169, -2.6121, -2.6468, -2.6514, -2.7763, -2.8037, -2.8139, -2.8202, -2.8229, -2.8666, -2.8917, -2.8993, -2.9638, -2.9686, -3.0159, -3.0655, -3.1173, -3.1216, -3.2517, -3.287, -3.2205, -3.3118, 1.4736, 1.4408, 1.436, 1.4293, 1.4252, 1.3254, 1.2888, 1.1138, 0.9264, -0.7079, -2.5654, -2.5784, -2.5794, -2.6202, -2.7114, -2.744, -2.7501, -2.7552, -2.7856, -2.791, -2.813, -2.8345, -2.9086, -2.9936, -3.0229, -3.0549, -3.0563, -3.0602, -3.0632, -3.111, -3.19, -3.2451, -3.4919, -3.3726, -3.3648, -3.6553, -3.4864, -3.1585, 1.5585, 1.5551, 1.553, 1.5508, 1.5508, 1.5346, 1.5346, 1.3461, 0.5345, 0.275, 0.2255, -2.4007, -2.401, -2.4371, -2.4591, -2.483, -2.5321, -2.6113, -2.6397, -2.654, -2.6847, -2.6942, -2.7088, -2.7263, -2.735, -2.7907, -2.8527, -2.8984, -2.9186, -2.9568, -2.957, -3.3833, -4.293, -3.0901, -3.2672, 1.6989, 1.6828, 1.6645, 1.6604, 1.6495, 1.4002, 1.369, 1.3363, 1.0568, 0.9019, -2.2832, -2.3323, -2.3487, -2.3932, -2.4979, -2.5334, -2.5381, -2.5474, -2.5709, -2.6117, -2.678, -2.6888, -2.7377, -2.779, -2.8013, -2.8232, -2.843, -2.8454, -2.8456, -2.846, -2.9023, -3.0071, -3.159, -3.0309, -3.5898, -3.4384, -4.1815, -2.9424, -3.1543, 1.7928, 1.7779, 1.7779, 1.775, 1.7596, 1.4768, 0.4659, 0.3751, 0.2202, -0.065, -0.3779, -0.449, -2.0475, -2.0564, -2.1124, -2.1363, -2.1384, -2.1919, -2.294, -2.3037, -2.3079, -2.3137, -2.3322, -2.3509, -2.3654, -2.3823, -2.5051, -2.5731, -2.6073, -2.611, -2.6126, -2.6532, -2.735, -2.797, -3.9445, -3.3606, -3.0523, -2.7093, -2.9212]}, \"token.table\": {\"Topic\": [4, 1, 1, 2, 1, 3, 5, 2, 2, 5, 4, 5, 3, 5, 4, 5, 4, 1, 4, 1, 1, 2, 2, 5, 4, 4, 1, 5, 3, 3, 4, 1, 3, 4, 1, 3, 3, 2, 2, 3, 5, 5, 2, 1, 5, 5, 3, 3, 1, 1, 2, 4, 1, 2, 5, 3], \"Freq\": [0.8931318461037362, 0.9728479274931994, 0.38942174952056957, 0.5841326242808543, 0.12153981592156243, 0.7697521675032287, 0.12153981592156243, 0.9287834378842772, 0.8463147119265118, 0.1302022633733095, 0.6951377881052792, 0.20854133643158376, 0.2602593551000408, 0.715713226525112, 0.9865047580811204, 0.9480115327912922, 0.9293317012997044, 0.4343151788378663, 0.5067010419775106, 0.9170085879284612, 0.9314337216049299, 0.9773256455155662, 0.6525371231555156, 0.27965876706664955, 0.9754108734897807, 0.9189841089583488, 0.7654885227402008, 0.21433678636725623, 0.9487509252159702, 0.2671222100853086, 0.712325893560823, 0.21498883006450914, 0.35831471677418186, 0.4299776601290183, 0.9546295405623582, 0.94874286868128, 0.9085923460556868, 0.9945450964198869, 0.9122100766510204, 0.908603882148708, 0.9460635046844288, 0.9456972280621276, 0.9418756037150486, 0.9452213765741792, 0.9800750915903681, 0.9457011912868795, 0.9683048371198626, 0.9594587492087403, 0.9283590701892644, 0.09759896318512774, 0.09759896318512774, 0.6831927422958942, 0.9808375880749348, 0.8011174461309124, 0.14137366696427867, 0.9543600900293724], \"Term\": [\"amazing\", \"chegg\", \"class\", \"class\", \"college\", \"college\", \"college\", \"day\", \"did\", \"did\", \"does\", \"does\", \"don\", \"don\", \"early\", \"eat\", \"free\", \"good\", \"good\", \"got\", \"great\", \"happy\", \"healthy\", \"healthy\", \"help\", \"hey\", \"just\", \"just\", \"know\", \"life\", \"life\", \"like\", \"like\", \"like\", \"literally\", \"lol\", \"look\", \"love\", \"make\", \"math\", \"need\", \"omg\", \"really\", \"school\", \"syd\", \"sydney\", \"thank\", \"thanks\", \"use\", \"used\", \"used\", \"used\", \"video\", \"videos\", \"videos\", \"yes\"]}, \"R\": 30, \"lambda.step\": 0.01, \"plot.opts\": {\"xlab\": \"PC1\", \"ylab\": \"PC2\"}, \"topic.order\": [4, 5, 2, 1, 3]};\n",
       "\n",
       "function LDAvis_load_lib(url, callback){\n",
       "  var s = document.createElement('script');\n",
       "  s.src = url;\n",
       "  s.async = true;\n",
       "  s.onreadystatechange = s.onload = callback;\n",
       "  s.onerror = function(){console.warn(\"failed to load library \" + url);};\n",
       "  document.getElementsByTagName(\"head\")[0].appendChild(s);\n",
       "}\n",
       "\n",
       "if(typeof(LDAvis) !== \"undefined\"){\n",
       "   // already loaded: just create the visualization\n",
       "   !function(LDAvis){\n",
       "       new LDAvis(\"#\" + \"ldavis_el20951406645531769766254269846\", ldavis_el20951406645531769766254269846_data);\n",
       "   }(LDAvis);\n",
       "}else if(typeof define === \"function\" && define.amd){\n",
       "   // require.js is available: use it to load d3/LDAvis\n",
       "   require.config({paths: {d3: \"https://d3js.org/d3.v5\"}});\n",
       "   require([\"d3\"], function(d3){\n",
       "      window.d3 = d3;\n",
       "      LDAvis_load_lib(\"https://cdn.jsdelivr.net/gh/bmabey/pyLDAvis@3.3.1/pyLDAvis/js/ldavis.v3.0.0.js\", function(){\n",
       "        new LDAvis(\"#\" + \"ldavis_el20951406645531769766254269846\", ldavis_el20951406645531769766254269846_data);\n",
       "      });\n",
       "    });\n",
       "}else{\n",
       "    // require.js not available: dynamically load d3 & LDAvis\n",
       "    LDAvis_load_lib(\"https://d3js.org/d3.v5.js\", function(){\n",
       "         LDAvis_load_lib(\"https://cdn.jsdelivr.net/gh/bmabey/pyLDAvis@3.3.1/pyLDAvis/js/ldavis.v3.0.0.js\", function(){\n",
       "                 new LDAvis(\"#\" + \"ldavis_el20951406645531769766254269846\", ldavis_el20951406645531769766254269846_data);\n",
       "            })\n",
       "         });\n",
       "}\n",
       "</script>"
      ],
      "text/plain": [
       "PreparedData(topic_coordinates=              x         y  topics  cluster       Freq\n",
       "topic                                                \n",
       "3      0.090953  0.303184       1        1  22.978699\n",
       "4     -0.352495 -0.047188       2        1  22.652388\n",
       "1      0.175821 -0.260173       3        1  20.293166\n",
       "0      0.181258  0.006986       4        1  17.879310\n",
       "2     -0.095537 -0.002810       5        1  16.196438, topic_info=      Term       Freq      Total Category  logprob  loglift\n",
       "25    love  68.000000  68.000000  Default  30.0000  30.0000\n",
       "8    early  34.000000  34.000000  Default  29.0000  29.0000\n",
       "1    chegg  38.000000  38.000000  Default  28.0000  28.0000\n",
       "32     syd  27.000000  27.000000  Default  27.0000  27.0000\n",
       "16    help  20.000000  20.000000  Default  26.0000  26.0000\n",
       "..     ...        ...        ...      ...      ...      ...\n",
       "25    love   0.214407  68.372968   Topic5  -6.3814  -3.9445\n",
       "1    chegg   0.213832  38.032666   Topic5  -6.3840  -3.3606\n",
       "21    like   0.213577  27.908427   Topic5  -6.3852  -3.0523\n",
       "35  thanks   0.213553  19.802832   Topic5  -6.3853  -2.7093\n",
       "38   video   0.213478  24.468883   Topic5  -6.3857  -2.9212\n",
       "\n",
       "[215 rows x 6 columns], token_table=      Topic      Freq       Term\n",
       "term                            \n",
       "0         4  0.893132    amazing\n",
       "1         1  0.972848      chegg\n",
       "2         1  0.389422      class\n",
       "2         2  0.584133      class\n",
       "3         1  0.121540    college\n",
       "3         3  0.769752    college\n",
       "3         5  0.121540    college\n",
       "4         2  0.928783        day\n",
       "5         2  0.846315        did\n",
       "5         5  0.130202        did\n",
       "6         4  0.695138       does\n",
       "6         5  0.208541       does\n",
       "7         3  0.260259        don\n",
       "7         5  0.715713        don\n",
       "8         4  0.986505      early\n",
       "9         5  0.948012        eat\n",
       "10        4  0.929332       free\n",
       "11        1  0.434315       good\n",
       "11        4  0.506701       good\n",
       "12        1  0.917009        got\n",
       "13        1  0.931434      great\n",
       "14        2  0.977326      happy\n",
       "15        2  0.652537    healthy\n",
       "15        5  0.279659    healthy\n",
       "16        4  0.975411       help\n",
       "17        4  0.918984        hey\n",
       "18        1  0.765489       just\n",
       "18        5  0.214337       just\n",
       "19        3  0.948751       know\n",
       "20        3  0.267122       life\n",
       "20        4  0.712326       life\n",
       "21        1  0.214989       like\n",
       "21        3  0.358315       like\n",
       "21        4  0.429978       like\n",
       "22        1  0.954630  literally\n",
       "23        3  0.948743        lol\n",
       "24        3  0.908592       look\n",
       "25        2  0.994545       love\n",
       "26        2  0.912210       make\n",
       "27        3  0.908604       math\n",
       "28        5  0.946064       need\n",
       "29        5  0.945697        omg\n",
       "30        2  0.941876     really\n",
       "31        1  0.945221     school\n",
       "32        5  0.980075        syd\n",
       "33        5  0.945701     sydney\n",
       "34        3  0.968305      thank\n",
       "35        3  0.959459     thanks\n",
       "36        1  0.928359        use\n",
       "37        1  0.097599       used\n",
       "37        2  0.097599       used\n",
       "37        4  0.683193       used\n",
       "38        1  0.980838      video\n",
       "39        2  0.801117     videos\n",
       "39        5  0.141374     videos\n",
       "40        3  0.954360        yes, R=30, lambda_step=0.01, plot_opts={'xlab': 'PC1', 'ylab': 'PC2'}, topic_order=[4, 5, 2, 1, 3])"
      ]
     },
     "execution_count": 16,
     "metadata": {},
     "output_type": "execute_result"
    }
   ],
   "source": [
    "pyLDAvis.sklearn.prepare(lda_tf, dtm_tf, tf_vectorizer)"
   ]
  },
  {
   "cell_type": "code",
   "execution_count": 12,
   "id": "da0c2569",
   "metadata": {},
   "outputs": [
    {
     "name": "stderr",
     "output_type": "stream",
     "text": [
      "/home/traffic/.local/lib/python3.8/site-packages/sklearn/utils/deprecation.py:87: FutureWarning: Function get_feature_names is deprecated; get_feature_names is deprecated in 1.0 and will be removed in 1.2. Please use get_feature_names_out instead.\n",
      "  warnings.warn(msg, category=FutureWarning)\n",
      "/home/traffic/.local/lib/python3.8/site-packages/pyLDAvis/_prepare.py:246: FutureWarning: In a future version of pandas all arguments of DataFrame.drop except for the argument 'labels' will be keyword-only.\n",
      "  default_term_info = default_term_info.sort_values(\n"
     ]
    },
    {
     "data": {
      "text/html": [
       "\n",
       "<link rel=\"stylesheet\" type=\"text/css\" href=\"https://cdn.jsdelivr.net/gh/bmabey/pyLDAvis@3.3.1/pyLDAvis/js/ldavis.v1.0.0.css\">\n",
       "\n",
       "\n",
       "<div id=\"ldavis_el25151399953451452965717623669\"></div>\n",
       "<script type=\"text/javascript\">\n",
       "\n",
       "var ldavis_el25151399953451452965717623669_data = {\"mdsDat\": {\"x\": [-0.09759127031882249, 0.22511681983813772, 0.08537782037597122, -0.2129033698952864], \"y\": [-0.10392125344486826, 0.13844464105841453, -0.16312852303689354, 0.12860513542334728], \"topics\": [1, 2, 3, 4], \"cluster\": [1, 1, 1, 1], \"Freq\": [31.065519169436346, 28.15573161157366, 26.015308598098436, 14.763440620891554]}, \"tinfo\": {\"Term\": [\"cancer\", \"video\", \"school\", \"love\", \"colon\", \"quot\", \"high\", \"thank\", \"thanks\", \"don\", \"college\", \"chegg\", \"really\", \"youtube\", \"week\", \"symptoms\", \"died\", \"colonoscopy\", \"blood\", \"watch\", \"eat\", \"years\", \"simone\", \"great\", \"people\", \"water\", \"videos\", \"months\", \"literally\", \"mom\", \"watch\", \"thanks\", \"mom\", \"omg\", \"https\", \"intestine\", \"href\", \"removed\", \"stage\", \"com\", \"www\", \"polyps\", \"colon\", \"passed\", \"age\", \"dad\", \"lots\", \"brother\", \"mother\", \"past\", \"money\", \"sharing\", \"check\", \"positive\", \"radiation\", \"severe\", \"couldn\", \"pass\", \"mum\", \"sign\", \"died\", \"cancer\", \"months\", \"chemo\", \"colonoscopy\", \"test\", \"large\", \"told\", \"years\", \"surgery\", \"symptoms\", \"got\", \"year\", \"did\", \"amp\", \"youtube\", \"blood\", \"time\", \"just\", \"don\", \"know\", \"said\", \"college\", \"videos\", \"grades\", \"lol\", \"studying\", \"amazing\", \"syd\", \"uni\", \"agree\", \"high\", \"focus\", \"love\", \"graduating\", \"middle\", \"grade\", \"shit\", \"embarrassing\", \"tips\", \"honestly\", \"hate\", \"nice\", \"queen\", \"class\", \"cares\", \"perfect\", \"stuff\", \"looking\", \"depressed\", \"pls\", \"congrats\", \"school\", \"thank\", \"say\", \"simone\", \"friends\", \"literally\", \"watching\", \"people\", \"really\", \"things\", \"study\", \"dont\", \"just\", \"gonna\", \"make\", \"think\", \"good\", \"god\", \"like\", \"life\", \"best\", \"time\", \"know\", \"year\", \"don\", \"quot\", \"water\", \"eating\", \"sugar\", \"point\", \"energy\", \"hours\", \"leaves\", \"fiber\", \"apple\", \"experience\", \"green\", \"fruits\", \"idea\", \"fight\", \"prevent\", \"ily\", \"helps\", \"hair\", \"today\", \"possible\", \"advice\", \"processed\", \"thinking\", \"drinking\", \"support\", \"decided\", \"kept\", \"meat\", \"bread\", \"week\", \"changed\", \"needed\", \"start\", \"eat\", \"food\", \"early\", \"come\", \"health\", \"red\", \"don\", \"drink\", \"stop\", \"like\", \"healthy\", \"stomach\", \"need\", \"body\", \"helpful\", \"lot\", \"time\", \"better\", \"know\", \"cancer\", \"life\", \"stool\", \"year\", \"going\", \"really\", \"pain\", \"just\", \"hey\", \"sir\", \"cool\", \"medical\", \"recommended\", \"music\", \"hemorrhoids\", \"single\", \"channel\", \"isn\", \"background\", \"using\", \"bowel\", \"herpes\", \"near\", \"comment\", \"exam\", \"post\", \"issue\", \"herbs\", \"symptom\", \"common\", \"ladies\", \"zach\", \"awesome\", \"bruh\", \"lecture\", \"seeing\", \"likely\", \"genitals\", \"video\", \"new\", \"crc\", \"chegg\", \"great\", \"pretty\", \"use\", \"youtube\", \"blood\", \"getting\", \"symptoms\", \"years\", \"day\", \"just\", \"crohn\", \"ago\", \"right\", \"like\", \"disease\", \"didn\", \"colonoscopy\", \"did\"], \"Freq\": [443.0, 196.0, 295.0, 247.0, 243.0, 180.0, 158.0, 187.0, 106.0, 279.0, 78.0, 78.0, 148.0, 104.0, 82.0, 142.0, 95.0, 107.0, 140.0, 73.0, 116.0, 173.0, 101.0, 63.0, 157.0, 56.0, 60.0, 107.0, 97.0, 61.0, 72.38226323833437, 105.63028693389101, 60.5405147343241, 58.53799584927245, 51.64418629387135, 50.658754674678754, 48.67717647895135, 45.71575983139854, 45.71429345523055, 44.724292359593605, 43.736030388757854, 38.7958548438413, 238.53571096232065, 34.84141540371662, 58.876169546792546, 27.91852309103528, 29.843623746958002, 26.933563687680067, 24.959168994867767, 24.88758945098629, 22.967334411372363, 22.96449789038842, 22.960177206976677, 21.98262353797745, 19.026198555630756, 19.01964849277403, 19.016306578596595, 18.02130148087245, 17.048950158552227, 17.04160852924746, 90.25026419287153, 373.61194881716455, 91.45450352315484, 44.69256685111495, 83.88271294036113, 54.04867624138484, 34.568087910609634, 43.802506828961526, 99.32824554472259, 51.56482692965831, 75.59902921534945, 60.869563477556206, 72.69221046550565, 56.40225798275311, 45.447210742572594, 50.20159244810923, 53.491529649450015, 60.451040523065046, 63.55794124083319, 58.34660732386465, 49.19218904642183, 45.46317593319163, 77.34249399970206, 59.62442840719756, 54.116670806522656, 51.32422124436367, 43.7591100612577, 36.34913146368191, 29.002167051304877, 27.17376004329286, 27.16912194125508, 153.7301419167168, 37.97928176543661, 240.34787050078933, 24.380678913887028, 23.45785446764173, 47.77074841938605, 22.522896621536564, 21.601733979368053, 21.598292905077578, 21.596981462610376, 21.59559780412778, 21.594046412461683, 21.591714947293106, 21.58933276112806, 20.671527685222138, 22.462069333119512, 32.331609940301085, 20.653481419976085, 19.735996272131292, 19.722894296972548, 18.811661097426327, 283.0455866133945, 165.34817750671255, 58.42533679819878, 83.07879132455656, 52.570687687577546, 77.98099976786125, 43.40648539826741, 111.2585605915279, 103.77082492923059, 55.047859402223416, 44.348195988178254, 37.161286858126054, 148.87476943257076, 32.0879003308889, 65.89458888712026, 68.40244327748616, 64.36659933406838, 51.922366853726956, 116.17857414044416, 76.8583272593096, 43.470587886315755, 59.48717347353663, 54.27951914287294, 54.65434750468715, 60.06776844907753, 179.36828507798913, 55.67033428389283, 40.81748419352114, 32.90424929077466, 29.917934718973974, 28.93468189206377, 30.858891877538046, 28.91990625264869, 27.955274659382646, 26.963705552645408, 28.881180971494288, 24.987213788371765, 23.999778702839397, 22.986886980813477, 22.02072457201835, 21.02872831832346, 21.01103123887384, 20.99887927415211, 20.032642218856036, 26.669886935590835, 19.041946004314873, 19.034050678771788, 18.055010292691414, 18.99518468380281, 17.061896754057315, 17.060980055375108, 17.035953816455997, 16.06362434395958, 38.738249079536715, 15.090549868393861, 75.35486010859793, 25.19476140348511, 45.8233554609176, 47.32917064434732, 91.09361232315145, 56.508767003533706, 58.17902613339996, 28.464860874699944, 41.776334624310394, 40.236162407914634, 160.14984247636454, 54.64803773035138, 30.808574109025557, 158.6817263039681, 38.94813636386471, 52.57257879469308, 53.69112163189917, 35.86824008416787, 34.923510805478855, 60.90158071165808, 88.74238482801587, 40.21992416332695, 56.47526066159434, 69.82751896211498, 48.78271482758676, 38.97609621674887, 47.88298077149145, 43.1766003848058, 43.57975844859639, 37.6145296812596, 42.072093969455324, 34.76292986195917, 31.78454017139101, 31.770034106143715, 28.83956047128611, 27.854999679856636, 26.87262504440648, 26.870233745879798, 21.941577651891816, 21.937416484006345, 20.945713457660666, 19.96166361292618, 18.954279996140944, 17.98656518490741, 17.01216878639693, 17.007659954095796, 17.00682419551792, 18.852889604111542, 16.021700283106885, 16.02145377188702, 16.01351114154292, 16.012955785715967, 17.87861551329932, 13.067422331074397, 15.822974893637205, 12.067720565510315, 11.095259408105248, 11.086845569606446, 11.083544492471262, 11.073981412039517, 10.106985632652421, 171.9152289284618, 33.34890078950139, 28.846461821928692, 48.060374187367266, 40.442483845622235, 25.559667384868966, 39.845307442006444, 48.00263659679159, 51.456011068060384, 29.11897210060764, 47.17152754957902, 48.9832096713002, 38.62749746524072, 60.1428423881186, 21.467214410635066, 26.140243764488392, 22.102266655615836, 35.27306031786926, 22.165583151801922, 22.839464685130913, 23.320121173901548, 21.816904867889367], \"Total\": [443.0, 196.0, 295.0, 247.0, 243.0, 180.0, 158.0, 187.0, 106.0, 279.0, 78.0, 78.0, 148.0, 104.0, 82.0, 142.0, 95.0, 107.0, 140.0, 73.0, 116.0, 173.0, 101.0, 63.0, 157.0, 56.0, 60.0, 107.0, 97.0, 61.0, 73.13665283912539, 106.74661029859637, 61.27453119168205, 59.29640856698715, 52.37781212187721, 51.389166622019026, 49.412142644549846, 46.44667108316177, 46.44660075371351, 45.457958337340536, 44.46940622645342, 39.52682680911943, 243.1721799184034, 35.572484508595004, 60.24580094793686, 28.6525529699763, 30.628887488754316, 27.66401635402559, 25.68715906255299, 25.683682657165743, 23.709975803961157, 23.709382737382676, 23.70983902454566, 22.721453772941945, 19.75586854191554, 19.755501986762546, 19.755488202956446, 18.766809680060422, 17.778689179856073, 17.778789550177763, 95.86339571961346, 443.9244519251969, 107.406110686391, 50.39024270831608, 107.68793053255413, 68.19172203000355, 40.50439716574544, 55.22717464942708, 173.35398426135947, 72.02985376199968, 142.2589891898186, 112.22095798013457, 175.4884351012032, 112.47285714059119, 78.30459602589134, 104.6770035386449, 140.29163675439537, 212.78414219440637, 314.6476470309779, 279.0711941051921, 166.61204684785994, 83.79936055541546, 78.09274805388252, 60.443030783675624, 54.864036600545795, 52.07692845650822, 44.65240436887681, 37.217610993842136, 29.778931890988307, 27.91879550089478, 27.91909545084161, 158.2282665501441, 39.09093150572331, 247.5939970138733, 25.13173531681907, 24.20218852799509, 49.33944168744026, 23.27342874026217, 22.34377069221254, 22.343988091188653, 22.34407467897665, 22.344160749997947, 22.344251796023993, 22.344411737508317, 22.344546154202643, 21.414694155994805, 23.277204869444, 33.52083002093197, 21.415853253750807, 20.48596824942006, 20.48678891611041, 19.55651342739012, 295.2541228506764, 187.15357207839543, 66.45963285346491, 101.47185503860833, 61.89037130523116, 97.82391695960871, 50.613643852994684, 157.99118884938457, 148.61627732492786, 77.5550762446984, 58.4325856372151, 46.07217466708749, 314.6476470309779, 38.468141596298715, 108.52235856503064, 115.28420318988725, 115.51126579476919, 84.66926097444717, 340.65273051460923, 175.04361782008817, 64.44170274350452, 212.78414219440637, 166.61204684785994, 175.4884351012032, 279.0711941051921, 180.11050907378322, 56.39723305002972, 41.551391549099115, 33.63382379899293, 30.6640172021566, 29.674613465673872, 31.653912782465248, 29.673424905088442, 28.685323795364425, 27.695519952470896, 29.671867753457178, 25.716191176347827, 24.7265155531216, 23.735959383835084, 22.747076406555838, 21.757381945547422, 21.756335015238463, 21.756187417738197, 20.767375799107423, 27.694589804548503, 19.777618955633613, 19.777283350623794, 18.788041344416765, 19.77637764015547, 17.798510758816025, 17.79849358642185, 17.797643311309486, 16.80872486203134, 40.5605802772622, 15.819117396943948, 82.12201412831182, 26.70153219519538, 51.43101423701688, 53.42086975070893, 116.7294994867376, 68.52976584548114, 72.21672209735044, 31.651245083801022, 50.90180286876934, 49.44253270585414, 279.0711941051921, 73.98927627402944, 36.29357922891679, 340.65273051460923, 51.43457661395062, 82.07772811352865, 87.86777466767929, 46.48841264542982, 44.50841662401363, 111.62617974121814, 212.78414219440637, 65.67357329099794, 166.61204684785994, 443.9244519251969, 175.04361782008817, 80.88402803617565, 175.4884351012032, 135.78243337024116, 148.61627732492786, 80.07463725739838, 314.6476470309779, 35.499356379513976, 32.539061107221265, 32.53873707983841, 29.580674227803637, 28.594261910687376, 27.607818338888844, 27.608053272301223, 22.675526878117495, 22.67532450632683, 21.688964766509848, 20.70249962822514, 19.71533915125263, 18.729840329370194, 17.743346120601778, 17.743251912474744, 17.7430896029873, 19.71218737574496, 16.756709336402544, 16.756723110692253, 16.75692274363155, 16.756887090347337, 18.73009267784906, 13.797531997044825, 16.756923131785875, 12.810351171240798, 11.824483375390205, 11.82430171534232, 11.824010925174914, 11.824094679488178, 10.83813081726347, 196.17072955797923, 39.45612234530546, 34.52373027524355, 78.083530934486, 63.70426539777811, 35.4488104480058, 74.33412223396002, 104.6770035386449, 140.29163675439537, 50.409028040453876, 142.2589891898186, 173.35398426135947, 105.9343855971163, 314.6476470309779, 32.56202913875344, 61.01666498521769, 40.48794264362037, 340.65273051460923, 57.2742507316958, 81.98893560989987, 107.68793053255413, 112.47285714059119], \"Category\": [\"Default\", \"Default\", \"Default\", \"Default\", \"Default\", \"Default\", \"Default\", \"Default\", \"Default\", \"Default\", \"Default\", \"Default\", \"Default\", \"Default\", \"Default\", \"Default\", \"Default\", \"Default\", \"Default\", \"Default\", \"Default\", \"Default\", \"Default\", \"Default\", \"Default\", \"Default\", \"Default\", \"Default\", \"Default\", \"Default\", \"Topic1\", \"Topic1\", \"Topic1\", \"Topic1\", \"Topic1\", \"Topic1\", \"Topic1\", \"Topic1\", \"Topic1\", \"Topic1\", \"Topic1\", \"Topic1\", \"Topic1\", \"Topic1\", \"Topic1\", \"Topic1\", \"Topic1\", \"Topic1\", \"Topic1\", \"Topic1\", \"Topic1\", \"Topic1\", \"Topic1\", \"Topic1\", \"Topic1\", \"Topic1\", \"Topic1\", \"Topic1\", \"Topic1\", \"Topic1\", \"Topic1\", \"Topic1\", \"Topic1\", \"Topic1\", \"Topic1\", \"Topic1\", \"Topic1\", \"Topic1\", \"Topic1\", \"Topic1\", \"Topic1\", \"Topic1\", \"Topic1\", \"Topic1\", \"Topic1\", \"Topic1\", \"Topic1\", \"Topic1\", \"Topic1\", \"Topic1\", \"Topic1\", \"Topic1\", \"Topic2\", \"Topic2\", \"Topic2\", \"Topic2\", \"Topic2\", \"Topic2\", \"Topic2\", \"Topic2\", \"Topic2\", \"Topic2\", \"Topic2\", \"Topic2\", \"Topic2\", \"Topic2\", \"Topic2\", \"Topic2\", \"Topic2\", \"Topic2\", \"Topic2\", \"Topic2\", \"Topic2\", \"Topic2\", \"Topic2\", \"Topic2\", \"Topic2\", \"Topic2\", \"Topic2\", \"Topic2\", \"Topic2\", \"Topic2\", \"Topic2\", \"Topic2\", \"Topic2\", \"Topic2\", \"Topic2\", \"Topic2\", \"Topic2\", \"Topic2\", \"Topic2\", \"Topic2\", \"Topic2\", \"Topic2\", \"Topic2\", \"Topic2\", \"Topic2\", \"Topic2\", \"Topic2\", \"Topic2\", \"Topic2\", \"Topic2\", \"Topic2\", \"Topic2\", \"Topic2\", \"Topic2\", \"Topic2\", \"Topic3\", \"Topic3\", \"Topic3\", \"Topic3\", \"Topic3\", \"Topic3\", \"Topic3\", \"Topic3\", \"Topic3\", \"Topic3\", \"Topic3\", \"Topic3\", \"Topic3\", \"Topic3\", \"Topic3\", \"Topic3\", \"Topic3\", \"Topic3\", \"Topic3\", \"Topic3\", \"Topic3\", \"Topic3\", \"Topic3\", \"Topic3\", \"Topic3\", \"Topic3\", \"Topic3\", \"Topic3\", \"Topic3\", \"Topic3\", \"Topic3\", \"Topic3\", \"Topic3\", \"Topic3\", \"Topic3\", \"Topic3\", \"Topic3\", \"Topic3\", \"Topic3\", \"Topic3\", \"Topic3\", \"Topic3\", \"Topic3\", \"Topic3\", \"Topic3\", \"Topic3\", \"Topic3\", \"Topic3\", \"Topic3\", \"Topic3\", \"Topic3\", \"Topic3\", \"Topic3\", \"Topic3\", \"Topic3\", \"Topic3\", \"Topic3\", \"Topic3\", \"Topic3\", \"Topic3\", \"Topic3\", \"Topic4\", \"Topic4\", \"Topic4\", \"Topic4\", \"Topic4\", \"Topic4\", \"Topic4\", \"Topic4\", \"Topic4\", \"Topic4\", \"Topic4\", \"Topic4\", \"Topic4\", \"Topic4\", \"Topic4\", \"Topic4\", \"Topic4\", \"Topic4\", \"Topic4\", \"Topic4\", \"Topic4\", \"Topic4\", \"Topic4\", \"Topic4\", \"Topic4\", \"Topic4\", \"Topic4\", \"Topic4\", \"Topic4\", \"Topic4\", \"Topic4\", \"Topic4\", \"Topic4\", \"Topic4\", \"Topic4\", \"Topic4\", \"Topic4\", \"Topic4\", \"Topic4\", \"Topic4\", \"Topic4\", \"Topic4\", \"Topic4\", \"Topic4\", \"Topic4\", \"Topic4\", \"Topic4\", \"Topic4\", \"Topic4\", \"Topic4\", \"Topic4\", \"Topic4\"], \"logprob\": [30.0, 29.0, 28.0, 27.0, 26.0, 25.0, 24.0, 23.0, 22.0, 21.0, 20.0, 19.0, 18.0, 17.0, 16.0, 15.0, 14.0, 13.0, 12.0, 11.0, 10.0, 9.0, 8.0, 7.0, 6.0, 5.0, 4.0, 3.0, 2.0, 1.0, -4.5872, -4.2092, -4.7659, -4.7995, -4.9248, -4.9441, -4.984, -5.0467, -5.0468, -5.0686, -5.091, -5.2109, -3.3946, -5.3184, -4.7937, -5.5399, -5.4732, -5.5758, -5.6519, -5.6548, -5.7351, -5.7352, -5.7354, -5.7789, -5.9233, -5.9237, -5.9239, -5.9776, -6.0331, -6.0335, -4.3666, -2.9459, -4.3533, -5.0694, -4.4397, -4.8793, -5.3262, -5.0895, -4.2707, -4.9263, -4.5437, -4.7604, -4.5829, -4.8367, -5.0526, -4.9531, -4.8896, -4.7673, -4.7172, -4.8028, -4.9734, -5.0523, -4.4226, -4.6828, -4.7797, -4.8327, -4.9921, -5.1776, -5.4034, -5.4686, -5.4687, -3.7356, -5.1338, -3.2887, -5.577, -5.6156, -4.9044, -5.6563, -5.698, -5.6982, -5.6983, -5.6983, -5.6984, -5.6985, -5.6986, -5.7421, -5.659, -5.2948, -5.7429, -5.7884, -5.789, -5.8363, -3.1252, -3.6628, -4.7031, -4.351, -4.8087, -4.4144, -5.0002, -4.059, -4.1286, -4.7626, -4.9787, -5.1556, -3.7677, -5.3023, -4.5828, -4.5454, -4.6062, -4.8211, -4.0157, -4.4289, -4.9987, -4.6851, -4.7767, -4.7698, -4.6753, -3.5023, -4.6723, -4.9826, -5.1982, -5.2933, -5.3267, -5.2623, -5.3272, -5.3611, -5.3973, -5.3286, -5.4734, -5.5137, -5.5568, -5.5998, -5.6459, -5.6467, -5.6473, -5.6944, -5.4082, -5.7451, -5.7455, -5.7983, -5.7476, -5.8549, -5.855, -5.8564, -5.9152, -5.0349, -5.9777, -4.3695, -5.4651, -4.867, -4.8346, -4.1799, -4.6574, -4.6282, -5.3431, -4.9594, -4.997, -3.6156, -4.6908, -5.264, -3.6249, -5.0295, -4.7296, -4.7085, -5.1119, -5.1386, -4.5825, -4.206, -4.9974, -4.6579, -4.4457, -4.8044, -5.0288, -4.823, -4.9265, -4.9172, -5.0644, -4.9524, -4.5767, -4.6662, -4.6667, -4.7635, -4.7982, -4.8341, -4.8342, -5.0368, -5.037, -5.0833, -5.1314, -5.1832, -5.2356, -5.2913, -5.2916, -5.2916, -5.1886, -5.3513, -5.3513, -5.3518, -5.3518, -5.2416, -5.5551, -5.3638, -5.6347, -5.7187, -5.7195, -5.7198, -5.7206, -5.812, -2.9782, -4.6182, -4.7632, -4.2528, -4.4253, -4.8842, -4.4402, -4.254, -4.1845, -4.7538, -4.2714, -4.2337, -4.4713, -4.0285, -5.0587, -4.8617, -5.0295, -4.5621, -5.0267, -4.9967, -4.9759, -5.0425], \"loglift\": [30.0, 29.0, 28.0, 27.0, 26.0, 25.0, 24.0, 23.0, 22.0, 21.0, 20.0, 19.0, 18.0, 17.0, 16.0, 15.0, 14.0, 13.0, 12.0, 11.0, 10.0, 9.0, 8.0, 7.0, 6.0, 5.0, 4.0, 3.0, 2.0, 1.0, 1.1587, 1.1586, 1.157, 1.1562, 1.155, 1.1548, 1.1541, 1.1532, 1.1532, 1.1528, 1.1524, 1.1504, 1.1498, 1.1483, 1.1461, 1.1431, 1.1431, 1.1423, 1.1403, 1.1376, 1.1372, 1.1372, 1.1369, 1.136, 1.1314, 1.1311, 1.1309, 1.1285, 1.1272, 1.1267, 1.1087, 0.9966, 1.0083, 1.0491, 0.9193, 0.9366, 1.0106, 0.9373, 0.6122, 0.8348, 0.5369, 0.5573, 0.2877, 0.4789, 0.625, 0.4342, 0.2049, -0.0894, -0.4304, -0.396, -0.0509, 0.5575, 1.2578, 1.2538, 1.2537, 1.2529, 1.2472, 1.2438, 1.241, 1.2404, 1.2402, 1.2386, 1.2386, 1.2377, 1.2371, 1.2362, 1.2351, 1.2346, 1.2336, 1.2335, 1.2334, 1.2333, 1.2333, 1.2332, 1.233, 1.2321, 1.2318, 1.2313, 1.2312, 1.2301, 1.2294, 1.2286, 1.2252, 1.1435, 1.1386, 1.0674, 1.1042, 1.0407, 1.1138, 0.9167, 0.9082, 0.9246, 0.9916, 1.0525, 0.5191, 1.0861, 0.7685, 0.7454, 0.6826, 0.7784, 0.1917, 0.4443, 0.8737, -0.0071, 0.1459, 0.1009, -0.2686, 1.3424, 1.3335, 1.3287, 1.3246, 1.3219, 1.3212, 1.321, 1.3208, 1.3207, 1.3197, 1.3195, 1.3177, 1.3167, 1.3144, 1.314, 1.3124, 1.3116, 1.3111, 1.3105, 1.3088, 1.3086, 1.3082, 1.3067, 1.3062, 1.3042, 1.3042, 1.3027, 1.3011, 1.3005, 1.2993, 1.2605, 1.2884, 1.231, 1.2254, 1.0985, 1.1536, 1.1303, 1.2404, 1.1489, 1.1404, 0.7911, 1.0435, 1.1826, 0.5825, 1.0684, 0.901, 0.8539, 1.0871, 1.104, 0.7406, 0.4719, 0.8562, 0.2646, -0.5031, 0.0688, 0.6164, 0.0477, 0.2007, 0.1197, 0.5909, -0.6656, 1.8921, 1.8896, 1.8891, 1.8876, 1.8868, 1.886, 1.8859, 1.8801, 1.8799, 1.8781, 1.8766, 1.8736, 1.8725, 1.8709, 1.8707, 1.8706, 1.8684, 1.8682, 1.8681, 1.8676, 1.8676, 1.8665, 1.8586, 1.8557, 1.8533, 1.8494, 1.8486, 1.8483, 1.8475, 1.8432, 1.781, 1.7449, 1.7334, 1.4277, 1.4586, 1.5859, 1.2895, 1.1334, 0.91, 1.3642, 0.8092, 0.6492, 0.9042, 0.2583, 1.4964, 1.0653, 1.3077, -0.3547, 0.9637, 0.6349, 0.3831, 0.273]}, \"token.table\": {\"Topic\": [3, 1, 2, 1, 2, 4, 2, 2, 1, 2, 4, 3, 4, 4, 1, 2, 2, 3, 1, 3, 4, 1, 3, 4, 3, 1, 4, 1, 3, 2, 1, 3, 4, 1, 2, 4, 1, 4, 2, 2, 1, 3, 1, 4, 1, 1, 3, 4, 4, 2, 4, 1, 1, 4, 1, 4, 1, 1, 2, 3, 4, 3, 2, 1, 2, 3, 4, 1, 2, 3, 4, 1, 4, 1, 4, 1, 2, 3, 4, 2, 3, 2, 3, 3, 1, 3, 1, 3, 4, 3, 2, 3, 4, 3, 3, 3, 2, 3, 2, 3, 1, 2, 3, 3, 4, 2, 3, 4, 1, 2, 3, 4, 1, 2, 3, 4, 2, 3, 4, 2, 3, 4, 1, 2, 3, 4, 2, 3, 2, 2, 2, 4, 3, 3, 2, 2, 3, 1, 3, 1, 3, 3, 4, 4, 4, 4, 2, 3, 2, 3, 1, 1, 3, 3, 1, 4, 4, 1, 2, 3, 4, 3, 1, 2, 3, 4, 4, 1, 4, 3, 4, 1, 2, 3, 4, 1, 2, 3, 4, 4, 1, 2, 3, 2, 2, 1, 2, 3, 1, 2, 3, 1, 2, 3, 1, 3, 4, 2, 1, 1, 1, 2, 4, 1, 1, 4, 4, 2, 3, 3, 4, 1, 4, 2, 1, 1, 3, 4, 1, 1, 1, 1, 2, 3, 2, 2, 3, 1, 1, 3, 4, 1, 2, 4, 3, 3, 2, 3, 1, 2, 3, 4, 4, 1, 3, 4, 1, 1, 3, 4, 1, 2, 4, 2, 3, 2, 3, 4, 4, 1, 1, 2, 1, 2, 3, 4, 4, 1, 1, 3, 1, 2, 3, 1, 2, 3, 4, 2, 3, 2, 3, 4, 2, 2, 3, 3, 3, 1, 2, 4, 2, 4, 1, 3, 4, 1, 3, 4, 1, 2, 3, 1, 4, 1, 2, 3, 1, 2, 3, 3, 1, 2, 3, 4, 2, 1, 3, 1, 2, 3, 2, 1, 2, 3, 4, 4, 1, 2, 3, 4, 2, 1, 2, 3, 3, 1, 3, 1, 1, 2, 3, 1, 2, 3, 4, 1, 3, 4, 4], \"Freq\": [0.9606981739178411, 0.9793213646704862, 0.016598667197804853, 0.5080579216761564, 0.04916689564607965, 0.42611309559935695, 0.9670800419569502, 0.9672840098725414, 0.5746789113773193, 0.3448073468263916, 0.0638532123752577, 0.9748869147911107, 0.9367424701783325, 0.9660669174814343, 0.310358031345097, 0.6672697673919585, 0.3806706220967395, 0.6090729953547832, 0.3777844583336469, 0.24948030267316304, 0.36352844103803755, 0.2151073661359586, 0.774386518089451, 0.9610332861073175, 0.9482197788669177, 0.9759971095473645, 0.930273201017292, 0.842485694081615, 0.15768448819709371, 0.9806350652045751, 0.037451034370976584, 0.9362758592744146, 0.9702176475517075, 0.9700614152710697, 0.3842039370013983, 0.6147262992022373, 0.8930300308431237, 0.09922555898256931, 0.9845803019750374, 0.9860070482712615, 0.9828426922857566, 0.016449250080096345, 0.7800317044314149, 0.21358010954669693, 0.9899256729934491, 0.09478300117600706, 0.8846413443093992, 0.9581194921733253, 0.9610203382115403, 0.9715433208758629, 0.9834432086741245, 0.9617580595733703, 0.14482791865586508, 0.8400019282040175, 0.33781678510042357, 0.6449229533735359, 0.9772253114526974, 0.09439805539658706, 0.26431455511044377, 0.2831941661897612, 0.3681524160466896, 0.9551826442772553, 0.9762779946008254, 0.4978979055364437, 0.3022951569328408, 0.008891034027436495, 0.19560274860360288, 0.43908363649561916, 0.19514828288694186, 0.08537737376303706, 0.2805256566499789, 0.9388359271482198, 0.05215755150823444, 0.6110948559407493, 0.3841167665913281, 0.2078322708510635, 0.21499890088041052, 0.5733304023477614, 0.0035833150146735086, 0.8030877697299502, 0.17364059886052977, 0.25679397011035615, 0.7433509661089258, 0.9551360914608823, 0.19386091743581985, 0.8031380865198251, 0.17133629534899472, 0.779580143837926, 0.04283407383724868, 0.9867298896970138, 0.9846144727786543, 0.9772663099233211, 0.9638707078940778, 0.9773567421154707, 0.976108905018699, 0.9671572560269536, 0.9720924658558319, 0.025581380680416627, 0.1605141921074482, 0.8317553591022314, 0.03231520441421158, 0.856352916976607, 0.11310321544974054, 0.9706179565996357, 0.9226683243268795, 0.29756574532566493, 0.11902629813026597, 0.5752937742962855, 0.2716452197089721, 0.6141544097768066, 0.09448529381181639, 0.011810661726477049, 0.3240478087472785, 0.301953639969055, 0.316683085821204, 0.058917783408596096, 0.831857185507473, 0.02599553704710853, 0.12997768523554265, 0.5540585116062176, 0.31165791277849736, 0.12120029941386008, 0.5435704800416894, 0.1960418124740519, 0.062376940332652876, 0.1960418124740519, 0.972852516331144, 0.020267760756898835, 0.9842513118960481, 0.9549678801502548, 0.3610433282039259, 0.6279014403546537, 0.9721501846273979, 0.9630489761185713, 0.984597284550149, 0.17681102618708866, 0.8251181222064138, 0.2333060907659, 0.758244794989175, 0.20220894569285194, 0.7863681221388686, 0.965242650138155, 0.9779755107575341, 0.9548292514555385, 0.9581056405286104, 0.9859333680820719, 0.9732774260735257, 0.0252799331447669, 0.9846010772914043, 0.9793418024823938, 0.9916590817055916, 0.9927867906930117, 0.9689939061685329, 0.9652361018200577, 0.9924270688240295, 0.968234317592987, 0.95484062691175, 0.2034021248971839, 0.47354557202625625, 0.13348264446377692, 0.19068949209110989, 0.9518866024240695, 0.29409638094623397, 0.32410621573666604, 0.3361101496528388, 0.04201376870660485, 0.9421974888541196, 0.8641037134012575, 0.12344338762875107, 0.9773054540471005, 0.9302874930641554, 0.23994019618109172, 0.43989035966533485, 0.27993022887794033, 0.03999003269684862, 0.09100176579582865, 0.34052273652632653, 0.4667509923076373, 0.10274392912432266, 0.9303037820800121, 0.18400408161362178, 0.7973510203256944, 0.010222448978534544, 0.9793204305932212, 0.9805819899481253, 0.1522940231351725, 0.2956295743212172, 0.5464667888967955, 0.9794675046886631, 0.9693288322598234, 0.028272090940911515, 0.06450283695046435, 0.6081696055329496, 0.32251418475232174, 0.02465447962440983, 0.9615247053519833, 0.980369810933591, 0.9503272802538292, 0.9955196525156064, 0.9700558191272999, 0.8472516081110667, 0.04655228615994872, 0.10241502955188718, 0.9732489271826584, 0.956200979049774, 0.9779838330060053, 0.9581107276083825, 0.38694504474012065, 0.6145597769401916, 0.8944019611981914, 0.09721760447806428, 0.15206765498875455, 0.8363721024381501, 0.9845932726158568, 0.9950012391281288, 0.36216211516238356, 0.4745572543507095, 0.16234853438313745, 0.9591401152815467, 0.9839065357254796, 0.9733806609320103, 0.19621347383842258, 0.7025708256795131, 0.09494200347020447, 0.9451306599478967, 0.9762388865281074, 0.9783453942848069, 0.9866716644960257, 0.968247904374803, 0.9606818718988359, 0.9548414118063947, 0.22567753046985659, 0.028209691308732073, 0.7334519740270339, 0.9651896562075835, 0.9580562268322372, 0.9845862248890548, 0.9938342905170053, 0.9617395438569643, 0.699788757140102, 0.29606447417465853, 0.006728738049424058, 0.9792174418579671, 0.020225501107502875, 0.809020044300115, 0.161804008860023, 0.9903831410788942, 0.049397422279621246, 0.41987808937678056, 0.5433716450758337, 0.5369969377062498, 0.2147987750824999, 0.2386653056472221, 0.872710207832214, 0.12037382176996056, 0.9584963531334874, 0.00677382581719779, 0.03386912908598895, 0.9303103718028133, 0.9617573885356707, 0.970080084106779, 0.9882514629316673, 0.9561955808082572, 0.8179608027114504, 0.1773890897446519, 0.97020898867098, 0.9834334154435196, 0.9903846407171615, 0.11231565543577425, 0.8798059675802317, 0.35332361977524096, 0.012183573095697963, 0.645729374071992, 0.3585380291276994, 0.037090140944244766, 0.48217183227518196, 0.12363380314748255, 0.13776541488132607, 0.8541455722642216, 0.7530045011730041, 0.03422747732604564, 0.20536486395627385, 0.9853892667573453, 0.9546302994292716, 0.029832196857164737, 0.9811551668112174, 0.9551370129980548, 0.7219228873047262, 0.013883132448167811, 0.26377951651518844, 0.9738428532682185, 0.9548312830261095, 0.5342368902860114, 0.13355922257150285, 0.3303833400452965, 0.7918849736078031, 0.1173162923863412, 0.08798721928975589, 0.042745644184920696, 0.8816289113139893, 0.07480487732361121, 0.9930057704267338, 0.009367978966289941, 0.12894062496242586, 0.7091734372933423, 0.15472874995491104, 0.07806793776573095, 0.5898466408966339, 0.3296201816775307, 0.9607421715805501, 0.2819758999953206, 0.27727630166206524, 0.4182642516597255, 0.01879839333302137, 0.9846048928335983, 0.036108135453797624, 0.9749196572525358, 0.7967092338021035, 0.0362140560819138, 0.1629632523686121, 0.9670904319326622, 0.09416940416634133, 0.1479804922613935, 0.21524435238020875, 0.5381108809505218, 0.9637166195435609, 0.0662688058982713, 0.015292801361139533, 0.040780803629705424, 0.8767872780386665, 0.9926702751676827, 0.9844585061661816, 0.8495732914407781, 0.13830262883919645, 0.9929565152659646, 0.07306201709355642, 0.9132752136694553, 0.9894442884156571, 0.41598182785037263, 0.3134109661886369, 0.27352229776462855, 0.5710858070082849, 0.051916891546207725, 0.09229669608214706, 0.28265863175157535, 0.47765983272095563, 0.057319179926514675, 0.4585534394121174, 0.954829229338047], \"Term\": [\"advice\", \"age\", \"age\", \"ago\", \"ago\", \"ago\", \"agree\", \"amazing\", \"amp\", \"amp\", \"amp\", \"apple\", \"awesome\", \"background\", \"best\", \"best\", \"better\", \"better\", \"blood\", \"blood\", \"blood\", \"body\", \"body\", \"bowel\", \"bread\", \"brother\", \"bruh\", \"cancer\", \"cancer\", \"cares\", \"changed\", \"changed\", \"channel\", \"check\", \"chegg\", \"chegg\", \"chemo\", \"chemo\", \"class\", \"college\", \"colon\", \"colon\", \"colonoscopy\", \"colonoscopy\", \"com\", \"come\", \"come\", \"comment\", \"common\", \"congrats\", \"cool\", \"couldn\", \"crc\", \"crc\", \"crohn\", \"crohn\", \"dad\", \"day\", \"day\", \"day\", \"day\", \"decided\", \"depressed\", \"did\", \"did\", \"did\", \"did\", \"didn\", \"didn\", \"didn\", \"didn\", \"died\", \"died\", \"disease\", \"disease\", \"don\", \"don\", \"don\", \"don\", \"dont\", \"dont\", \"drink\", \"drink\", \"drinking\", \"early\", \"early\", \"eat\", \"eat\", \"eat\", \"eating\", \"embarrassing\", \"energy\", \"exam\", \"experience\", \"fiber\", \"fight\", \"focus\", \"focus\", \"food\", \"food\", \"friends\", \"friends\", \"friends\", \"fruits\", \"genitals\", \"getting\", \"getting\", \"getting\", \"god\", \"god\", \"god\", \"god\", \"going\", \"going\", \"going\", \"going\", \"gonna\", \"gonna\", \"gonna\", \"good\", \"good\", \"good\", \"got\", \"got\", \"got\", \"got\", \"grade\", \"grade\", \"grades\", \"graduating\", \"great\", \"great\", \"green\", \"hair\", \"hate\", \"health\", \"health\", \"healthy\", \"healthy\", \"helpful\", \"helpful\", \"helps\", \"hemorrhoids\", \"herbs\", \"herpes\", \"hey\", \"high\", \"high\", \"honestly\", \"hours\", \"href\", \"https\", \"idea\", \"ily\", \"intestine\", \"isn\", \"issue\", \"just\", \"just\", \"just\", \"just\", \"kept\", \"know\", \"know\", \"know\", \"know\", \"ladies\", \"large\", \"large\", \"leaves\", \"lecture\", \"life\", \"life\", \"life\", \"life\", \"like\", \"like\", \"like\", \"like\", \"likely\", \"literally\", \"literally\", \"literally\", \"lol\", \"looking\", \"lot\", \"lot\", \"lot\", \"lots\", \"love\", \"love\", \"make\", \"make\", \"make\", \"meat\", \"meat\", \"medical\", \"middle\", \"mom\", \"money\", \"months\", \"months\", \"months\", \"mother\", \"mum\", \"music\", \"near\", \"need\", \"need\", \"needed\", \"needed\", \"new\", \"new\", \"nice\", \"omg\", \"pain\", \"pain\", \"pain\", \"pass\", \"passed\", \"past\", \"people\", \"people\", \"people\", \"perfect\", \"pls\", \"point\", \"polyps\", \"positive\", \"possible\", \"post\", \"pretty\", \"pretty\", \"pretty\", \"prevent\", \"processed\", \"queen\", \"quot\", \"radiation\", \"really\", \"really\", \"really\", \"recommended\", \"red\", \"red\", \"red\", \"removed\", \"right\", \"right\", \"right\", \"said\", \"said\", \"said\", \"say\", \"say\", \"school\", \"school\", \"school\", \"seeing\", \"severe\", \"sharing\", \"shit\", \"sign\", \"simone\", \"simone\", \"single\", \"sir\", \"stage\", \"start\", \"start\", \"stomach\", \"stomach\", \"stomach\", \"stool\", \"stool\", \"stool\", \"stool\", \"stop\", \"stop\", \"study\", \"study\", \"study\", \"studying\", \"stuff\", \"stuff\", \"sugar\", \"support\", \"surgery\", \"surgery\", \"surgery\", \"syd\", \"symptom\", \"symptoms\", \"symptoms\", \"symptoms\", \"test\", \"test\", \"test\", \"thank\", \"thank\", \"thank\", \"thanks\", \"thanks\", \"things\", \"things\", \"things\", \"think\", \"think\", \"think\", \"thinking\", \"time\", \"time\", \"time\", \"time\", \"tips\", \"today\", \"today\", \"told\", \"told\", \"told\", \"uni\", \"use\", \"use\", \"use\", \"use\", \"using\", \"video\", \"video\", \"video\", \"video\", \"videos\", \"watch\", \"watching\", \"watching\", \"water\", \"week\", \"week\", \"www\", \"year\", \"year\", \"year\", \"years\", \"years\", \"years\", \"years\", \"youtube\", \"youtube\", \"youtube\", \"zach\"]}, \"R\": 30, \"lambda.step\": 0.01, \"plot.opts\": {\"xlab\": \"PC1\", \"ylab\": \"PC2\"}, \"topic.order\": [4, 2, 3, 1]};\n",
       "\n",
       "function LDAvis_load_lib(url, callback){\n",
       "  var s = document.createElement('script');\n",
       "  s.src = url;\n",
       "  s.async = true;\n",
       "  s.onreadystatechange = s.onload = callback;\n",
       "  s.onerror = function(){console.warn(\"failed to load library \" + url);};\n",
       "  document.getElementsByTagName(\"head\")[0].appendChild(s);\n",
       "}\n",
       "\n",
       "if(typeof(LDAvis) !== \"undefined\"){\n",
       "   // already loaded: just create the visualization\n",
       "   !function(LDAvis){\n",
       "       new LDAvis(\"#\" + \"ldavis_el25151399953451452965717623669\", ldavis_el25151399953451452965717623669_data);\n",
       "   }(LDAvis);\n",
       "}else if(typeof define === \"function\" && define.amd){\n",
       "   // require.js is available: use it to load d3/LDAvis\n",
       "   require.config({paths: {d3: \"https://d3js.org/d3.v5\"}});\n",
       "   require([\"d3\"], function(d3){\n",
       "      window.d3 = d3;\n",
       "      LDAvis_load_lib(\"https://cdn.jsdelivr.net/gh/bmabey/pyLDAvis@3.3.1/pyLDAvis/js/ldavis.v3.0.0.js\", function(){\n",
       "        new LDAvis(\"#\" + \"ldavis_el25151399953451452965717623669\", ldavis_el25151399953451452965717623669_data);\n",
       "      });\n",
       "    });\n",
       "}else{\n",
       "    // require.js not available: dynamically load d3 & LDAvis\n",
       "    LDAvis_load_lib(\"https://d3js.org/d3.v5.js\", function(){\n",
       "         LDAvis_load_lib(\"https://cdn.jsdelivr.net/gh/bmabey/pyLDAvis@3.3.1/pyLDAvis/js/ldavis.v3.0.0.js\", function(){\n",
       "                 new LDAvis(\"#\" + \"ldavis_el25151399953451452965717623669\", ldavis_el25151399953451452965717623669_data);\n",
       "            })\n",
       "         });\n",
       "}\n",
       "</script>"
      ],
      "text/plain": [
       "PreparedData(topic_coordinates=              x         y  topics  cluster       Freq\n",
       "topic                                                \n",
       "3     -0.097591 -0.103921       1        1  31.065519\n",
       "1      0.225117  0.138445       2        1  28.155732\n",
       "2      0.085378 -0.163129       3        1  26.015309\n",
       "0     -0.212903  0.128605       4        1  14.763441, topic_info=            Term        Freq       Total Category  logprob  loglift\n",
       "67        cancer  443.000000  443.000000  Default  30.0000  30.0000\n",
       "630        video  196.000000  196.000000  Default  29.0000  29.0000\n",
       "515       school  295.000000  295.000000  Default  28.0000  28.0000\n",
       "370         love  247.000000  247.000000  Default  27.0000  27.0000\n",
       "92         colon  243.000000  243.000000  Default  26.0000  26.0000\n",
       "..           ...         ...         ...      ...      ...      ...\n",
       "346         like   35.273060  340.652731   Topic4  -4.5621  -0.3547\n",
       "148      disease   22.165583   57.274251   Topic4  -5.0267   0.9637\n",
       "140         didn   22.839465   81.988936   Topic4  -4.9967   0.6349\n",
       "94   colonoscopy   23.320121  107.687931   Topic4  -4.9759   0.3831\n",
       "139          did   21.816905  112.472857   Topic4  -5.0425   0.2730\n",
       "\n",
       "[250 rows x 6 columns], token_table=      Topic      Freq     Term\n",
       "term                          \n",
       "4         3  0.960698   advice\n",
       "5         1  0.979321      age\n",
       "5         2  0.016599      age\n",
       "7         1  0.508058      ago\n",
       "7         2  0.049167      ago\n",
       "...     ...       ...      ...\n",
       "675       4  0.282659    years\n",
       "679       1  0.477660  youtube\n",
       "679       3  0.057319  youtube\n",
       "679       4  0.458553  youtube\n",
       "681       4  0.954829     zach\n",
       "\n",
       "[349 rows x 3 columns], R=30, lambda_step=0.01, plot_opts={'xlab': 'PC1', 'ylab': 'PC2'}, topic_order=[4, 2, 3, 1])"
      ]
     },
     "execution_count": 12,
     "metadata": {},
     "output_type": "execute_result"
    }
   ],
   "source": [
    "pyLDAvis.sklearn.prepare(lda_tf, dtm_tf, tf_vectorizer)"
   ]
  },
  {
   "cell_type": "code",
   "execution_count": null,
   "id": "54df7edf",
   "metadata": {},
   "outputs": [],
   "source": []
  }
 ],
 "metadata": {
  "kernelspec": {
   "display_name": "Python 3 (ipykernel)",
   "language": "python",
   "name": "python3"
  },
  "language_info": {
   "codemirror_mode": {
    "name": "ipython",
    "version": 3
   },
   "file_extension": ".py",
   "mimetype": "text/x-python",
   "name": "python",
   "nbconvert_exporter": "python",
   "pygments_lexer": "ipython3",
   "version": "3.8.10"
  }
 },
 "nbformat": 4,
 "nbformat_minor": 5
}
