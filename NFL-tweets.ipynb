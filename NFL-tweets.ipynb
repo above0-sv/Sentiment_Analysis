{
  "nbformat": 4,
  "nbformat_minor": 0,
  "metadata": {
    "colab": {
      "name": "tweets.ipynb",
      "provenance": [],
      "include_colab_link": true
    },
    "kernelspec": {
      "name": "python3",
      "display_name": "Python 3"
    },
    "language_info": {
      "name": "python"
    }
  },
  "cells": [
    {
      "cell_type": "markdown",
      "metadata": {
        "id": "view-in-github",
        "colab_type": "text"
      },
      "source": [
        "<a href=\"https://colab.research.google.com/github/above0-sv/NFL-data-mining/blob/main/tweets.ipynb\" target=\"_parent\"><img src=\"https://colab.research.google.com/assets/colab-badge.svg\" alt=\"Open In Colab\"/></a>"
      ]
    },
    {
      "cell_type": "code",
      "metadata": {
        "colab": {
          "base_uri": "https://localhost:8080/"
        },
        "id": "eXespn-PhMe9",
        "collapsed": true,
        "outputId": "8f3c0ae6-4dae-4412-c952-e76b054f909b"
      },
      "source": [
        "\n",
        "import tweepy #https://github.com/tweepy/tweepy\n",
        "import csv\n",
        "\n",
        "#Credenciales del Twitter API\n",
        "consumer_key = \"dOuxYovyQnJusYnPISXiVUGOz\"\n",
        "consumer_secret = \"4INyGDOygpUTLwfNSYDefMlTz6JAeOCZL2TrFgelvCbDpaHNHm\"\n",
        "access_key = \"257243704-onMmCuzOjY7TYCUST0j5xhMbjVtpfNiKSMWfb81B\"\n",
        "access_secret = \"IQVuPbFdi9Std8wBsNidA22Z0EtDLYE2RyqEvUNwQTSEF\"\n",
        "\n",
        "\n",
        "#Remover los caracteres no imprimibles y los saltos de línea del texto del tweet\n",
        "def strip_undesired_chars(tweet):\n",
        "    stripped_tweet = tweet.replace('\\n', ' ').replace('\\r', '')\n",
        "    char_list = [stripped_tweet[j] for j in range(len(stripped_tweet)) if ord(stripped_tweet[j]) in range(65536)]\n",
        "    stripped_tweet=''\n",
        "    for j in char_list:\n",
        "        stripped_tweet=stripped_tweet+j\n",
        "    return stripped_tweet\n",
        "\n",
        "def get_all_tweets(screen_name):\n",
        "    limit_number = 3240\n",
        "    \n",
        "    auth = tweepy.OAuthHandler(consumer_key, consumer_secret)\n",
        "    auth.set_access_token(access_key, access_secret)\n",
        "    api = tweepy.API(auth)\n",
        "    \n",
        "    #inicializar una list to para almacenar los Tweets descargados por tweepy\n",
        "    alltweets = []    \n",
        "    \n",
        "    #Hacer una petición inicial por los 200 tweets más recientes (200 es el número máximo permitido)\n",
        "    new_tweets = api.user_timeline(screen_name = screen_name,count=200)\n",
        "    \n",
        "    #guardar los tweets más recientes\n",
        "    alltweets.extend(new_tweets)\n",
        "    \n",
        "    #guardar el ID del tweet más antiguo menos 1\n",
        "    oldest = alltweets[-1].id - 1\n",
        "    \n",
        "    #recorrer todos los tweets en la cola hasta que no queden más\n",
        "    while len(new_tweets) > 0 and len(alltweets) <= limit_number:\n",
        "        print (\"getting tweets before\" + str(oldest))\n",
        "        \n",
        "        #en todas las peticiones siguientes usar el parámetro max_id para evitar duplicados\n",
        "        new_tweets = api.user_timeline(screen_name = screen_name,count=200,max_id=oldest)\n",
        "        \n",
        "        #guardar los tweets descargados\n",
        "        alltweets.extend(new_tweets)\n",
        "        \n",
        "        #actualizar el ID del tweet más antiguo menos 1\n",
        "        oldest = alltweets[-1].id - 1\n",
        "        \n",
        "        #informar en la consola como vamos\n",
        "        print (str(len(alltweets)) + \" tweets descargados hasta el momento\")\n",
        "    \n",
        "    #transformar los tweets descargados con tweepy en un arreglo 2D array que llenará el csv\n",
        "    outtweets = [(tweet.id_str, tweet.created_at, strip_undesired_chars(tweet.text),tweet.retweet_count,str(tweet.favorite_count)+'') for tweet in alltweets]\n",
        "    \n",
        "    #escribir el csv    \n",
        "    with open('%s_tweets.csv' % screen_name, \"w\", newline='') as f:       \n",
        "        writer = csv.writer(f, quoting=csv.QUOTE_ALL)\n",
        "        writer.writerow(['id','created_at','tweet_text','retweet_count','favorite_count','engament rate'])\n",
        "        writer.writerows(outtweets)    \n",
        "    pass\n",
        "\n",
        "if __name__ == '__main__':\n",
        "    #especificar el nombre de usuario de la cuenta a la cual se descargarán los tweets\n",
        "    get_all_tweets(\"@elsalvador\")\n",
        "\n"
      ],
      "execution_count": null,
      "outputs": [
        {
          "output_type": "stream",
          "name": "stdout",
          "text": [
            "getting tweets before1486043725079924735\n",
            "400 tweets descargados hasta el momento\n",
            "getting tweets before1485681304792272895\n",
            "600 tweets descargados hasta el momento\n",
            "getting tweets before1485336893558566911\n",
            "800 tweets descargados hasta el momento\n",
            "getting tweets before1485009380592558081\n",
            "1000 tweets descargados hasta el momento\n",
            "getting tweets before1484625674296041479\n",
            "1200 tweets descargados hasta el momento\n",
            "getting tweets before1484274534966566916\n",
            "1400 tweets descargados hasta el momento\n",
            "getting tweets before1483922220317507584\n",
            "1600 tweets descargados hasta el momento\n",
            "getting tweets before1483572277677600768\n",
            "1800 tweets descargados hasta el momento\n",
            "getting tweets before1483247769208831999\n",
            "2000 tweets descargados hasta el momento\n",
            "getting tweets before1482885381209169921\n",
            "2200 tweets descargados hasta el momento\n",
            "getting tweets before1482483794678534149\n",
            "2400 tweets descargados hasta el momento\n",
            "getting tweets before1482073212653608968\n",
            "2600 tweets descargados hasta el momento\n",
            "getting tweets before1481732791872077825\n",
            "2800 tweets descargados hasta el momento\n",
            "getting tweets before1481420730684293126\n",
            "3000 tweets descargados hasta el momento\n",
            "getting tweets before1481121256917196800\n",
            "3200 tweets descargados hasta el momento\n",
            "getting tweets before1480899714975473664\n",
            "3250 tweets descargados hasta el momento\n"
          ]
        }
      ]
    }
  ]
}